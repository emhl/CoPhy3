{
 "cells": [
  {
   "cell_type": "code",
   "execution_count": 69,
   "metadata": {},
   "outputs": [
    {
     "data": {
      "text/plain": [
       "3×3×3 Array{Int64, 3}:\n",
       "[:, :, 1] =\n",
       "  1  1  -1\n",
       " -1  1   1\n",
       "  1  1  -1\n",
       "\n",
       "[:, :, 2] =\n",
       " -1   1  -1\n",
       "  1   1  -1\n",
       "  1  -1  -1\n",
       "\n",
       "[:, :, 3] =\n",
       " -1   1   1\n",
       " -1   1   1\n",
       "  1  -1  -1"
      ]
     },
     "metadata": {},
     "output_type": "display_data"
    }
   ],
   "source": [
    "include(\"../src/ising.jl\")\n",
    "\n",
    "# Dimension\n",
    "n = 3 \n",
    "\n",
    "# Hamiltonian\n",
    "J = 1\n",
    "B = 0\n",
    "T = 0\n",
    "\n",
    "grid = create_grid(n,n,n);\n",
    "\n",
    "grid\n"
   ]
  },
  {
   "cell_type": "code",
   "execution_count": 70,
   "metadata": {},
   "outputs": [
    {
     "name": "stdout",
     "output_type": "stream",
     "text": [
      "0"
     ]
    },
    {
     "data": {
      "text/plain": [
       "3×3×3 Array{Int64, 3}:\n",
       "[:, :, 1] =\n",
       "  1  1  -1\n",
       " -1  1   1\n",
       "  1  1  -1\n",
       "\n",
       "[:, :, 2] =\n",
       " -1   1  -1\n",
       "  1   1  -1\n",
       "  1  -1  -1\n",
       "\n",
       "[:, :, 3] =\n",
       " -1   1   1\n",
       " -1   1   1\n",
       "  1  -1  -1"
      ]
     },
     "metadata": {},
     "output_type": "display_data"
    }
   ],
   "source": [
    "new_Grid = metropolis_step(grid,J,T,B)\n",
    "\n",
    "\n",
    "print(sum(new_Grid - grid))\n",
    "\n",
    "new_Grid\n"
   ]
  },
  {
   "cell_type": "code",
   "execution_count": 103,
   "metadata": {},
   "outputs": [
    {
     "data": {
      "text/plain": [
       "100000-element Vector{Float64}:\n",
       "  0.25925925925925924\n",
       "  0.3333333333333333\n",
       "  0.25925925925925924\n",
       "  0.18518518518518517\n",
       "  0.1111111111111111\n",
       "  0.1111111111111111\n",
       "  0.18518518518518517\n",
       "  0.1111111111111111\n",
       "  0.037037037037037035\n",
       "  0.1111111111111111\n",
       "  ⋮\n",
       " -0.48148148148148145\n",
       " -0.5555555555555556\n",
       " -0.5555555555555556\n",
       " -0.5555555555555556\n",
       " -0.6296296296296297\n",
       " -0.6296296296296297\n",
       " -0.6296296296296297\n",
       " -0.6296296296296297\n",
       " -0.6296296296296297"
      ]
     },
     "metadata": {},
     "output_type": "display_data"
    }
   ],
   "source": [
    "# Dimension\n",
    "n = 3 \n",
    "\n",
    "# Hamiltonian\n",
    "J = 1\n",
    "B = 0\n",
    "T = 10\n",
    "\n",
    "grid = create_grid(n,n,n);\n",
    "\n",
    "\n",
    "# Number of iterations\n",
    "N = 100000\n",
    "\n",
    "Temp_Grid, energies, magnetisations = MonteCarloConstantTemp(grid,J,T,B,N)\n",
    "\n",
    "magnetisations\n",
    "\n"
   ]
  }
 ],
 "metadata": {
  "kernelspec": {
   "display_name": "Julia 1.10.2",
   "language": "julia",
   "name": "julia-1.10"
  },
  "language_info": {
   "file_extension": ".jl",
   "mimetype": "application/julia",
   "name": "julia",
   "version": "1.10.2"
  }
 },
 "nbformat": 4,
 "nbformat_minor": 2
}
