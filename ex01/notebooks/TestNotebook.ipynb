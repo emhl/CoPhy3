{
 "cells": [
  {
   "cell_type": "code",
   "execution_count": 41,
   "metadata": {},
   "outputs": [
    {
     "data": {
      "text/plain": [
       "3×3×3 Array{Int64, 3}:\n",
       "[:, :, 1] =\n",
       " 1  -1  -1\n",
       " 1  -1   1\n",
       " 1  -1   1\n",
       "\n",
       "[:, :, 2] =\n",
       " -1  -1  -1\n",
       "  1   1  -1\n",
       " -1  -1  -1\n",
       "\n",
       "[:, :, 3] =\n",
       "  1   1  -1\n",
       " -1  -1  -1\n",
       " -1   1  -1"
      ]
     },
     "metadata": {},
     "output_type": "display_data"
    }
   ],
   "source": [
    "include(\"../src/ising.jl\")\n",
    "\n",
    "# Dimension\n",
    "n = 3 \n",
    "\n",
    "# Hamiltonian\n",
    "J = 1\n",
    "B = 0\n",
    "T = 0\n",
    "\n",
    "grid = create_grid(n,n,n);\n",
    "\n",
    "grid\n"
   ]
  },
  {
   "cell_type": "code",
   "execution_count": 42,
   "metadata": {},
   "outputs": [
    {
     "name": "stdout",
     "output_type": "stream",
     "text": [
      "0"
     ]
    },
    {
     "data": {
      "text/plain": [
       "3×3×3 Array{Int64, 3}:\n",
       "[:, :, 1] =\n",
       " 1  -1  -1\n",
       " 1  -1   1\n",
       " 1  -1   1\n",
       "\n",
       "[:, :, 2] =\n",
       " -1  -1  -1\n",
       "  1   1  -1\n",
       " -1  -1  -1\n",
       "\n",
       "[:, :, 3] =\n",
       "  1   1  -1\n",
       " -1  -1  -1\n",
       " -1   1  -1"
      ]
     },
     "metadata": {},
     "output_type": "display_data"
    }
   ],
   "source": [
    "new_Grid = metropolis_step(grid,J,T,B)\n",
    "\n",
    "\n",
    "print(sum(new_Grid - grid))\n",
    "\n",
    "new_Grid\n"
   ]
  }
 ],
 "metadata": {
  "kernelspec": {
   "display_name": "Julia 1.10.2",
   "language": "julia",
   "name": "julia-1.10"
  },
  "language_info": {
   "file_extension": ".jl",
   "mimetype": "application/julia",
   "name": "julia",
   "version": "1.10.2"
  }
 },
 "nbformat": 4,
 "nbformat_minor": 2
}
