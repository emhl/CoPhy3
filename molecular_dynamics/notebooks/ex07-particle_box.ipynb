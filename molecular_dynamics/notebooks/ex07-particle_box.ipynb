{
 "cells": [
  {
   "cell_type": "markdown",
   "metadata": {},
   "source": [
    "# Interacting particles in a box"
   ]
  },
  {
   "cell_type": "code",
   "execution_count": 1,
   "metadata": {},
   "outputs": [
    {
     "data": {
      "text/plain": [
       "calc_lj_hamiltonian (generic function with 1 method)"
      ]
     },
     "metadata": {},
     "output_type": "display_data"
    }
   ],
   "source": [
    "import CairoMakie as cm\n",
    "\n",
    "include(\"../src/verlet-new.jl\")"
   ]
  },
  {
   "cell_type": "code",
   "execution_count": 2,
   "metadata": {},
   "outputs": [
    {
     "ename": "UndefVarError",
     "evalue": "UndefVarError: `norm` not defined",
     "output_type": "error",
     "traceback": [
      "UndefVarError: `norm` not defined\n",
      "\n",
      "Stacktrace:\n",
      " [1] calc_lj_force(pos_i::Vector{Float64}, pos_j::Vector{Float64}; cutoff::Float64, L::Float64)\n",
      "   @ Main ~/Documents/code/CoPhy3/molecular_dynamics/src/verlet-new.jl:23\n",
      " [2] calc_lj_force\n",
      "   @ ~/Documents/code/CoPhy3/molecular_dynamics/src/verlet-new.jl:20 [inlined]\n",
      " [3] macro expansion\n",
      "   @ ~/Documents/code/CoPhy3/molecular_dynamics/src/verlet-new.jl:56 [inlined]\n",
      " [4] macro expansion\n",
      "   @ ~/.julia/packages/ProgressMeter/dMfiC/src/ProgressMeter.jl:1010 [inlined]\n",
      " [5] verlet_simulate(; N_particles::Int64, L::Float64, dt::Float64, steps::Int64, cutoff::Float64)\n",
      "   @ Main ~/Documents/code/CoPhy3/molecular_dynamics/src/verlet-new.jl:49\n",
      " [6] top-level scope\n",
      "   @ ~/Documents/code/CoPhy3/molecular_dynamics/notebooks/ex09-molecule_box.ipynb:4"
     ]
    }
   ],
   "source": [
    "dt = 0.000_1\n",
    "cutoff = 2.5\n",
    "box_size = 30.0\n",
    "pos_arr, v_arr = verlet_simulate(N_particles=100, steps=50_000,L=box_size, dt=dt,cutoff=cutoff)"
   ]
  },
  {
   "cell_type": "code",
   "execution_count": 3,
   "metadata": {},
   "outputs": [
    {
     "ename": "UndefVarError",
     "evalue": "UndefVarError: `v_arr` not defined",
     "output_type": "error",
     "traceback": [
      "UndefVarError: `v_arr` not defined\n",
      "\n",
      "Stacktrace:\n",
      " [1] top-level scope\n",
      "   @ ~/Documents/code/CoPhy3/molecular_dynamics/notebooks/ex09-molecule_box.ipynb:1"
     ]
    }
   ],
   "source": [
    "v = sb.mean(v_arr,dims=2)\n",
    "v = reshape(v,length(v))\n",
    "t = collect(range(0,length(v)*dt,length(v)));"
   ]
  },
  {
   "cell_type": "code",
   "execution_count": 4,
   "metadata": {},
   "outputs": [
    {
     "ename": "UndefVarError",
     "evalue": "UndefVarError: `t` not defined",
     "output_type": "error",
     "traceback": [
      "UndefVarError: `t` not defined\n",
      "\n",
      "Stacktrace:\n",
      " [1] top-level scope\n",
      "   @ ~/Documents/code/CoPhy3/molecular_dynamics/notebooks/ex09-molecule_box.ipynb:3"
     ]
    }
   ],
   "source": [
    "fig = cm.Figure()\n",
    "ax = cm.Axis(fig[1, 1], xlabel=\"Time\", ylabel=\"Velocity\")\n",
    "cm.plot!(ax, t, v)\n",
    "\n",
    "fig"
   ]
  },
  {
   "cell_type": "code",
   "execution_count": 5,
   "metadata": {},
   "outputs": [],
   "source": [
    "energy = calc_lj_hamiltonian(pos_arr, v_arr, dt=dt, cutoff=cutoff,L=box_size)\n",
    "t = collect(range(0,length(energy)*dt,length(energy)));"
   ]
  },
  {
   "cell_type": "code",
   "execution_count": null,
   "metadata": {},
   "outputs": [],
   "source": [
    "fig = cm.Figure()\n",
    "ax = cm.Axis(fig[1,1],xlabel=\"time\", ylabel=\"energy\")\n",
    "\n",
    "cm.plot!(ax, t, energy)\n",
    "\n",
    "\n",
    "# cm.xlims!(ax, 0, 0.2)\n",
    "# cm.ylims!(ax, 8000, 8300)\n",
    "\n",
    "\n",
    "fig"
   ]
  }
 ],
 "metadata": {
  "kernelspec": {
   "display_name": "Julia 1.10.3",
   "language": "julia",
   "name": "julia-1.10"
  },
  "language_info": {
   "file_extension": ".jl",
   "mimetype": "application/julia",
   "name": "julia",
   "version": "1.10.3"
  }
 },
 "nbformat": 4,
 "nbformat_minor": 2
}
