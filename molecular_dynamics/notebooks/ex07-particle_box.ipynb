{
 "cells": [
  {
   "cell_type": "markdown",
   "metadata": {},
   "source": [
    "# Interacting particles in a box"
   ]
  },
  {
   "cell_type": "code",
   "execution_count": 1,
   "metadata": {},
   "outputs": [],
   "source": [
    "import CairoMakie as cm\n",
    "import LsqFit as lsq\n",
    "using JLD2\n",
    "using ProgressMeter\n",
    "import StatsBase as sb\n",
    "import Distributions as dist"
   ]
  },
  {
   "cell_type": "markdown",
   "metadata": {},
   "source": [
    "## required functions"
   ]
  },
  {
   "cell_type": "code",
   "execution_count": 2,
   "metadata": {},
   "outputs": [
    {
     "data": {
      "text/plain": [
       "calc_lj_force (generic function with 1 method)"
      ]
     },
     "metadata": {},
     "output_type": "display_data"
    }
   ],
   "source": [
    "function init_system(; N_particles::Int64=10, L::Float64=10.0)\n",
    "    # random positions from 0 to L in 3 Dimensions\n",
    "    return rand(N_particles) .* L, rand(N_particles) .* L, rand(N_particles) .* L\n",
    "end\n",
    "\n",
    "function calc_distances(pos::Tuple{Float64,Float64,Float64}, particles::Tuple{Array{Float64,1},Array{Float64,1},Array{Float64,1}})\n",
    "    # ToDo: add periodic boundary conditions\n",
    "    x_part, y_part, z_part = particles\n",
    "    x_pos, y_pos, z_pos = pos\n",
    "\n",
    "    x_dist =  x_part .- x_pos\n",
    "    y_dist =  y_part .- y_pos\n",
    "    z_dist =  z_part .- z_pos\n",
    "\n",
    "    return sqrt.(x_dist .^ 2 .+ y_dist .^ 2 .+ z_dist .^ 2), (x_dist, y_dist, z_dist)\n",
    "end\n",
    "\n",
    "function calc_distances_near(pos::Tuple{Float64,Float64,Float64}, particles::Tuple{Array{Float64,1},Array{Float64,1},Array{Float64,1}}; cutoff::Float64=1.0)\n",
    "\n",
    "    r_dist, dist = calc_distances(pos, particles)\n",
    "    x_dist, y_dist, z_dist = dist\n",
    "\n",
    "    # remove far away particles\n",
    "    x_dist = x_dist[r_dist.<=cutoff]\n",
    "    y_dist = y_dist[r_dist.<=cutoff]\n",
    "    z_dist = z_dist[r_dist.<=cutoff]\n",
    "\n",
    "    r_dist = r_dist[r_dist.<=cutoff]\n",
    "\n",
    "    # remove self-interaction\n",
    "    x_dist = x_dist[r_dist.>0.0]\n",
    "    y_dist = y_dist[r_dist.>0.0]\n",
    "    z_dist = z_dist[r_dist.>0.0]\n",
    "\n",
    "    r_dist = r_dist[r_dist.>0.0]\n",
    "\n",
    "    return r_dist, (x_dist, y_dist, z_dist)\n",
    "end\n",
    "\n",
    "function calc_lj_potential(pos::Tuple{Float64,Float64,Float64}, particles::Tuple{Array{Float64,1},Array{Float64,1},Array{Float64,1}}; cutoff::Float64=1.0)\n",
    "    r_dist, dist = calc_distances_near(pos, particles, cutoff=cutoff)\n",
    "    return 4.0 * sum(r_dist .^ -12 .- r_dist .^ -6)\n",
    "end\n",
    "\n",
    "\n",
    "function calc_velocities(particle_arr::Tuple{Array{Float64,2},Array{Float64,2},Array{Float64,2}}; dt::Float64=0.01)\n",
    "    x_part, y_part, z_part = particle_arr\n",
    "end\n",
    "\n",
    "function calc_lj_force(pos::Tuple{Float64,Float64,Float64}, particles::Tuple{Array{Float64,1},Array{Float64,1},Array{Float64,1}}; cutoff::Float64=1.0)\n",
    "    r_dist, dist = calc_distances_near(pos, particles, cutoff=cutoff)\n",
    "\n",
    "    x_dist, y_dist, z_dist = dist\n",
    "\n",
    "    # calculate the force from the Lennard-Jones potential\n",
    "    V_diff = -24 .* (2 .* r_dist .^ -14 .- r_dist .^ -8)\n",
    "\n",
    "    fx = sum(V_diff .* x_dist)\n",
    "    fy = sum(V_diff .* y_dist)\n",
    "    fz = sum(V_diff .* z_dist)\n",
    "\n",
    "    return fx, fy, fz\n",
    "end\n"
   ]
  },
  {
   "cell_type": "code",
   "execution_count": 3,
   "metadata": {},
   "outputs": [
    {
     "data": {
      "text/plain": [
       "verlet_simulate (generic function with 1 method)"
      ]
     },
     "metadata": {},
     "output_type": "display_data"
    }
   ],
   "source": [
    "function verlet_step(pos::Tuple{Float64,Float64,Float64}, pos_last::Tuple{Float64,Float64,Float64}; force::Tuple{Float64,Float64,Float64}, dt::Float64=0.01)\n",
    "    # calculate the new position\n",
    "    return 2.0.*pos .- pos_last .+ dt^2 .* force\n",
    "end\n",
    "\n",
    "function verlet_simulate(; N_particles::Int64=10, L::Float64=10.0, dt::Float64=0.01, steps::Int64=100)\n",
    "    positions = init_system(N_particles=N_particles, L=L)\n",
    "    # initial velocity = 0\n",
    "    positions_last = positions\n",
    "    positions_arr = zeros(steps+1, N_particles, 3)\n",
    "    positions_arr[1,:,1] .= positions[1]\n",
    "    positions_arr[1,:,2] .= positions[2]\n",
    "    positions_arr[1,:,3] .= positions[3]\n",
    "    @showprogress for i in 1:steps\n",
    "        x, y, z = positions\n",
    "        x_last, y_last, z_last = positions_last\n",
    "        x_next, y_next, z_next = zeros(N_particles), zeros(N_particles), zeros(N_particles)\n",
    "        Threads.@threads for j in 1:N_particles\n",
    "            pos = x[j], y[j], z[j]\n",
    "            pos_last = x_last[j], y_last[j], z_last[j]\n",
    "            pos_next = verlet_step(pos, pos_last, force=calc_lj_force(pos, positions, cutoff=2.5), dt=dt)\n",
    "            \n",
    "            # periodic boundary conditions\n",
    "            x_next[j], y_next[j], z_next[j] = pos_next .% L\n",
    "        end\n",
    "        positions_last = positions\n",
    "        positions = (x_next, y_next, z_next)\n",
    "        positions_arr[i+1,:,1] .= positions[1]\n",
    "        positions_arr[i+1,:,2] .= positions[2]\n",
    "        positions_arr[i+1,:,3] .= positions[3]\n",
    "    end\n",
    "    return positions_arr\n",
    "end\n"
   ]
  },
  {
   "cell_type": "code",
   "execution_count": 4,
   "metadata": {},
   "outputs": [
    {
     "name": "stderr",
     "output_type": "stream",
     "text": [
      "\u001b[32mProgress: 100%|█████████████████████████████████████████| Time: 0:00:09\u001b[39m\u001b[K\n"
     ]
    }
   ],
   "source": [
    "pos_arr = verlet_simulate(N_particles=20, steps=10_000,L=8.0, dt=0.01);"
   ]
  }
 ],
 "metadata": {
  "kernelspec": {
   "display_name": "Julia 1.10.3",
   "language": "julia",
   "name": "julia-1.10"
  },
  "language_info": {
   "file_extension": ".jl",
   "mimetype": "application/julia",
   "name": "julia",
   "version": "1.10.3"
  }
 },
 "nbformat": 4,
 "nbformat_minor": 2
}
