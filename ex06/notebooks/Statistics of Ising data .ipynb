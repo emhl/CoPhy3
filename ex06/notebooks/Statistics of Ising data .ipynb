{
 "cells": [
  {
   "cell_type": "code",
   "execution_count": 1,
   "metadata": {
    "button": false,
    "new_sheet": false,
    "run_control": {
     "read_only": false
    }
   },
   "outputs": [
    {
     "data": {
      "text/html": [
       "\n",
       "    <div class=\"bk-root\">\n",
       "        <a href=\"https://bokeh.pydata.org\" target=\"_blank\" class=\"bk-logo bk-logo-small bk-logo-notebook\"></a>\n",
       "        <span id=\"1001\">Loading BokehJS ...</span>\n",
       "    </div>"
      ]
     },
     "metadata": {},
     "output_type": "display_data"
    },
    {
     "data": {
      "application/javascript": [
       "\n",
       "(function(root) {\n",
       "  function now() {\n",
       "    return new Date();\n",
       "  }\n",
       "\n",
       "  var force = true;\n",
       "\n",
       "  if (typeof (root._bokeh_onload_callbacks) === \"undefined\" || force === true) {\n",
       "    root._bokeh_onload_callbacks = [];\n",
       "    root._bokeh_is_loading = undefined;\n",
       "  }\n",
       "\n",
       "  var JS_MIME_TYPE = 'application/javascript';\n",
       "  var HTML_MIME_TYPE = 'text/html';\n",
       "  var EXEC_MIME_TYPE = 'application/vnd.bokehjs_exec.v0+json';\n",
       "  var CLASS_NAME = 'output_bokeh rendered_html';\n",
       "\n",
       "  /**\n",
       "   * Render data to the DOM node\n",
       "   */\n",
       "  function render(props, node) {\n",
       "    var script = document.createElement(\"script\");\n",
       "    node.appendChild(script);\n",
       "  }\n",
       "\n",
       "  /**\n",
       "   * Handle when an output is cleared or removed\n",
       "   */\n",
       "  function handleClearOutput(event, handle) {\n",
       "    var cell = handle.cell;\n",
       "\n",
       "    var id = cell.output_area._bokeh_element_id;\n",
       "    var server_id = cell.output_area._bokeh_server_id;\n",
       "    // Clean up Bokeh references\n",
       "    if (id != null && id in Bokeh.index) {\n",
       "      Bokeh.index[id].model.document.clear();\n",
       "      delete Bokeh.index[id];\n",
       "    }\n",
       "\n",
       "    if (server_id !== undefined) {\n",
       "      // Clean up Bokeh references\n",
       "      var cmd = \"from bokeh.io.state import curstate; print(curstate().uuid_to_server['\" + server_id + \"'].get_sessions()[0].document.roots[0]._id)\";\n",
       "      cell.notebook.kernel.execute(cmd, {\n",
       "        iopub: {\n",
       "          output: function(msg) {\n",
       "            var id = msg.content.text.trim();\n",
       "            if (id in Bokeh.index) {\n",
       "              Bokeh.index[id].model.document.clear();\n",
       "              delete Bokeh.index[id];\n",
       "            }\n",
       "          }\n",
       "        }\n",
       "      });\n",
       "      // Destroy server and session\n",
       "      var cmd = \"import bokeh.io.notebook as ion; ion.destroy_server('\" + server_id + \"')\";\n",
       "      cell.notebook.kernel.execute(cmd);\n",
       "    }\n",
       "  }\n",
       "\n",
       "  /**\n",
       "   * Handle when a new output is added\n",
       "   */\n",
       "  function handleAddOutput(event, handle) {\n",
       "    var output_area = handle.output_area;\n",
       "    var output = handle.output;\n",
       "\n",
       "    // limit handleAddOutput to display_data with EXEC_MIME_TYPE content only\n",
       "    if ((output.output_type != \"display_data\") || (!output.data.hasOwnProperty(EXEC_MIME_TYPE))) {\n",
       "      return\n",
       "    }\n",
       "\n",
       "    var toinsert = output_area.element.find(\".\" + CLASS_NAME.split(' ')[0]);\n",
       "\n",
       "    if (output.metadata[EXEC_MIME_TYPE][\"id\"] !== undefined) {\n",
       "      toinsert[toinsert.length - 1].firstChild.textContent = output.data[JS_MIME_TYPE];\n",
       "      // store reference to embed id on output_area\n",
       "      output_area._bokeh_element_id = output.metadata[EXEC_MIME_TYPE][\"id\"];\n",
       "    }\n",
       "    if (output.metadata[EXEC_MIME_TYPE][\"server_id\"] !== undefined) {\n",
       "      var bk_div = document.createElement(\"div\");\n",
       "      bk_div.innerHTML = output.data[HTML_MIME_TYPE];\n",
       "      var script_attrs = bk_div.children[0].attributes;\n",
       "      for (var i = 0; i < script_attrs.length; i++) {\n",
       "        toinsert[toinsert.length - 1].firstChild.setAttribute(script_attrs[i].name, script_attrs[i].value);\n",
       "      }\n",
       "      // store reference to server id on output_area\n",
       "      output_area._bokeh_server_id = output.metadata[EXEC_MIME_TYPE][\"server_id\"];\n",
       "    }\n",
       "  }\n",
       "\n",
       "  function register_renderer(events, OutputArea) {\n",
       "\n",
       "    function append_mime(data, metadata, element) {\n",
       "      // create a DOM node to render to\n",
       "      var toinsert = this.create_output_subarea(\n",
       "        metadata,\n",
       "        CLASS_NAME,\n",
       "        EXEC_MIME_TYPE\n",
       "      );\n",
       "      this.keyboard_manager.register_events(toinsert);\n",
       "      // Render to node\n",
       "      var props = {data: data, metadata: metadata[EXEC_MIME_TYPE]};\n",
       "      render(props, toinsert[toinsert.length - 1]);\n",
       "      element.append(toinsert);\n",
       "      return toinsert\n",
       "    }\n",
       "\n",
       "    /* Handle when an output is cleared or removed */\n",
       "    events.on('clear_output.CodeCell', handleClearOutput);\n",
       "    events.on('delete.Cell', handleClearOutput);\n",
       "\n",
       "    /* Handle when a new output is added */\n",
       "    events.on('output_added.OutputArea', handleAddOutput);\n",
       "\n",
       "    /**\n",
       "     * Register the mime type and append_mime function with output_area\n",
       "     */\n",
       "    OutputArea.prototype.register_mime_type(EXEC_MIME_TYPE, append_mime, {\n",
       "      /* Is output safe? */\n",
       "      safe: true,\n",
       "      /* Index of renderer in `output_area.display_order` */\n",
       "      index: 0\n",
       "    });\n",
       "  }\n",
       "\n",
       "  // register the mime type if in Jupyter Notebook environment and previously unregistered\n",
       "  if (root.Jupyter !== undefined) {\n",
       "    var events = require('base/js/events');\n",
       "    var OutputArea = require('notebook/js/outputarea').OutputArea;\n",
       "\n",
       "    if (OutputArea.prototype.mime_types().indexOf(EXEC_MIME_TYPE) == -1) {\n",
       "      register_renderer(events, OutputArea);\n",
       "    }\n",
       "  }\n",
       "\n",
       "  \n",
       "  if (typeof (root._bokeh_timeout) === \"undefined\" || force === true) {\n",
       "    root._bokeh_timeout = Date.now() + 5000;\n",
       "    root._bokeh_failed_load = false;\n",
       "  }\n",
       "\n",
       "  var NB_LOAD_WARNING = {'data': {'text/html':\n",
       "     \"<div style='background-color: #fdd'>\\n\"+\n",
       "     \"<p>\\n\"+\n",
       "     \"BokehJS does not appear to have successfully loaded. If loading BokehJS from CDN, this \\n\"+\n",
       "     \"may be due to a slow or bad network connection. Possible fixes:\\n\"+\n",
       "     \"</p>\\n\"+\n",
       "     \"<ul>\\n\"+\n",
       "     \"<li>re-rerun `output_notebook()` to attempt to load from CDN again, or</li>\\n\"+\n",
       "     \"<li>use INLINE resources instead, as so:</li>\\n\"+\n",
       "     \"</ul>\\n\"+\n",
       "     \"<code>\\n\"+\n",
       "     \"from bokeh.resources import INLINE\\n\"+\n",
       "     \"output_notebook(resources=INLINE)\\n\"+\n",
       "     \"</code>\\n\"+\n",
       "     \"</div>\"}};\n",
       "\n",
       "  function display_loaded() {\n",
       "    var el = document.getElementById(\"1001\");\n",
       "    if (el != null) {\n",
       "      el.textContent = \"BokehJS is loading...\";\n",
       "    }\n",
       "    if (root.Bokeh !== undefined) {\n",
       "      if (el != null) {\n",
       "        el.textContent = \"BokehJS \" + root.Bokeh.version + \" successfully loaded.\";\n",
       "      }\n",
       "    } else if (Date.now() < root._bokeh_timeout) {\n",
       "      setTimeout(display_loaded, 100)\n",
       "    }\n",
       "  }\n",
       "\n",
       "\n",
       "  function run_callbacks() {\n",
       "    try {\n",
       "      root._bokeh_onload_callbacks.forEach(function(callback) { callback() });\n",
       "    }\n",
       "    finally {\n",
       "      delete root._bokeh_onload_callbacks\n",
       "    }\n",
       "    console.info(\"Bokeh: all callbacks have finished\");\n",
       "  }\n",
       "\n",
       "  function load_libs(js_urls, callback) {\n",
       "    root._bokeh_onload_callbacks.push(callback);\n",
       "    if (root._bokeh_is_loading > 0) {\n",
       "      console.log(\"Bokeh: BokehJS is being loaded, scheduling callback at\", now());\n",
       "      return null;\n",
       "    }\n",
       "    if (js_urls == null || js_urls.length === 0) {\n",
       "      run_callbacks();\n",
       "      return null;\n",
       "    }\n",
       "    console.log(\"Bokeh: BokehJS not loaded, scheduling load and callback at\", now());\n",
       "    root._bokeh_is_loading = js_urls.length;\n",
       "    for (var i = 0; i < js_urls.length; i++) {\n",
       "      var url = js_urls[i];\n",
       "      var s = document.createElement('script');\n",
       "      s.src = url;\n",
       "      s.async = false;\n",
       "      s.onreadystatechange = s.onload = function() {\n",
       "        root._bokeh_is_loading--;\n",
       "        if (root._bokeh_is_loading === 0) {\n",
       "          console.log(\"Bokeh: all BokehJS libraries loaded\");\n",
       "          run_callbacks()\n",
       "        }\n",
       "      };\n",
       "      s.onerror = function() {\n",
       "        console.warn(\"failed to load library \" + url);\n",
       "      };\n",
       "      console.log(\"Bokeh: injecting script tag for BokehJS library: \", url);\n",
       "      document.getElementsByTagName(\"head\")[0].appendChild(s);\n",
       "    }\n",
       "  };var element = document.getElementById(\"1001\");\n",
       "  if (element == null) {\n",
       "    console.log(\"Bokeh: ERROR: autoload.js configured with elementid '1001' but no matching script tag was found. \")\n",
       "    return false;\n",
       "  }\n",
       "\n",
       "  var js_urls = [\"https://cdn.pydata.org/bokeh/release/bokeh-1.0.4.min.js\", \"https://cdn.pydata.org/bokeh/release/bokeh-widgets-1.0.4.min.js\", \"https://cdn.pydata.org/bokeh/release/bokeh-tables-1.0.4.min.js\", \"https://cdn.pydata.org/bokeh/release/bokeh-gl-1.0.4.min.js\"];\n",
       "\n",
       "  var inline_js = [\n",
       "    function(Bokeh) {\n",
       "      Bokeh.set_log_level(\"info\");\n",
       "    },\n",
       "    \n",
       "    function(Bokeh) {\n",
       "      \n",
       "    },\n",
       "    function(Bokeh) {\n",
       "      console.log(\"Bokeh: injecting CSS: https://cdn.pydata.org/bokeh/release/bokeh-1.0.4.min.css\");\n",
       "      Bokeh.embed.inject_css(\"https://cdn.pydata.org/bokeh/release/bokeh-1.0.4.min.css\");\n",
       "      console.log(\"Bokeh: injecting CSS: https://cdn.pydata.org/bokeh/release/bokeh-widgets-1.0.4.min.css\");\n",
       "      Bokeh.embed.inject_css(\"https://cdn.pydata.org/bokeh/release/bokeh-widgets-1.0.4.min.css\");\n",
       "      console.log(\"Bokeh: injecting CSS: https://cdn.pydata.org/bokeh/release/bokeh-tables-1.0.4.min.css\");\n",
       "      Bokeh.embed.inject_css(\"https://cdn.pydata.org/bokeh/release/bokeh-tables-1.0.4.min.css\");\n",
       "    }\n",
       "  ];\n",
       "\n",
       "  function run_inline_js() {\n",
       "    \n",
       "    if ((root.Bokeh !== undefined) || (force === true)) {\n",
       "      for (var i = 0; i < inline_js.length; i++) {\n",
       "        inline_js[i].call(root, root.Bokeh);\n",
       "      }if (force === true) {\n",
       "        display_loaded();\n",
       "      }} else if (Date.now() < root._bokeh_timeout) {\n",
       "      setTimeout(run_inline_js, 100);\n",
       "    } else if (!root._bokeh_failed_load) {\n",
       "      console.log(\"Bokeh: BokehJS failed to load within specified timeout.\");\n",
       "      root._bokeh_failed_load = true;\n",
       "    } else if (force !== true) {\n",
       "      var cell = $(document.getElementById(\"1001\")).parents('.cell').data().cell;\n",
       "      cell.output_area.append_execute_result(NB_LOAD_WARNING)\n",
       "    }\n",
       "\n",
       "  }\n",
       "\n",
       "  if (root._bokeh_is_loading === 0) {\n",
       "    console.log(\"Bokeh: BokehJS loaded, going straight to plotting\");\n",
       "    run_inline_js();\n",
       "  } else {\n",
       "    load_libs(js_urls, function() {\n",
       "      console.log(\"Bokeh: BokehJS plotting callback run at\", now());\n",
       "      run_inline_js();\n",
       "    });\n",
       "  }\n",
       "}(window));"
      ],
      "application/vnd.bokehjs_load.v0+json": "\n(function(root) {\n  function now() {\n    return new Date();\n  }\n\n  var force = true;\n\n  if (typeof (root._bokeh_onload_callbacks) === \"undefined\" || force === true) {\n    root._bokeh_onload_callbacks = [];\n    root._bokeh_is_loading = undefined;\n  }\n\n  \n\n  \n  if (typeof (root._bokeh_timeout) === \"undefined\" || force === true) {\n    root._bokeh_timeout = Date.now() + 5000;\n    root._bokeh_failed_load = false;\n  }\n\n  var NB_LOAD_WARNING = {'data': {'text/html':\n     \"<div style='background-color: #fdd'>\\n\"+\n     \"<p>\\n\"+\n     \"BokehJS does not appear to have successfully loaded. If loading BokehJS from CDN, this \\n\"+\n     \"may be due to a slow or bad network connection. Possible fixes:\\n\"+\n     \"</p>\\n\"+\n     \"<ul>\\n\"+\n     \"<li>re-rerun `output_notebook()` to attempt to load from CDN again, or</li>\\n\"+\n     \"<li>use INLINE resources instead, as so:</li>\\n\"+\n     \"</ul>\\n\"+\n     \"<code>\\n\"+\n     \"from bokeh.resources import INLINE\\n\"+\n     \"output_notebook(resources=INLINE)\\n\"+\n     \"</code>\\n\"+\n     \"</div>\"}};\n\n  function display_loaded() {\n    var el = document.getElementById(\"1001\");\n    if (el != null) {\n      el.textContent = \"BokehJS is loading...\";\n    }\n    if (root.Bokeh !== undefined) {\n      if (el != null) {\n        el.textContent = \"BokehJS \" + root.Bokeh.version + \" successfully loaded.\";\n      }\n    } else if (Date.now() < root._bokeh_timeout) {\n      setTimeout(display_loaded, 100)\n    }\n  }\n\n\n  function run_callbacks() {\n    try {\n      root._bokeh_onload_callbacks.forEach(function(callback) { callback() });\n    }\n    finally {\n      delete root._bokeh_onload_callbacks\n    }\n    console.info(\"Bokeh: all callbacks have finished\");\n  }\n\n  function load_libs(js_urls, callback) {\n    root._bokeh_onload_callbacks.push(callback);\n    if (root._bokeh_is_loading > 0) {\n      console.log(\"Bokeh: BokehJS is being loaded, scheduling callback at\", now());\n      return null;\n    }\n    if (js_urls == null || js_urls.length === 0) {\n      run_callbacks();\n      return null;\n    }\n    console.log(\"Bokeh: BokehJS not loaded, scheduling load and callback at\", now());\n    root._bokeh_is_loading = js_urls.length;\n    for (var i = 0; i < js_urls.length; i++) {\n      var url = js_urls[i];\n      var s = document.createElement('script');\n      s.src = url;\n      s.async = false;\n      s.onreadystatechange = s.onload = function() {\n        root._bokeh_is_loading--;\n        if (root._bokeh_is_loading === 0) {\n          console.log(\"Bokeh: all BokehJS libraries loaded\");\n          run_callbacks()\n        }\n      };\n      s.onerror = function() {\n        console.warn(\"failed to load library \" + url);\n      };\n      console.log(\"Bokeh: injecting script tag for BokehJS library: \", url);\n      document.getElementsByTagName(\"head\")[0].appendChild(s);\n    }\n  };var element = document.getElementById(\"1001\");\n  if (element == null) {\n    console.log(\"Bokeh: ERROR: autoload.js configured with elementid '1001' but no matching script tag was found. \")\n    return false;\n  }\n\n  var js_urls = [\"https://cdn.pydata.org/bokeh/release/bokeh-1.0.4.min.js\", \"https://cdn.pydata.org/bokeh/release/bokeh-widgets-1.0.4.min.js\", \"https://cdn.pydata.org/bokeh/release/bokeh-tables-1.0.4.min.js\", \"https://cdn.pydata.org/bokeh/release/bokeh-gl-1.0.4.min.js\"];\n\n  var inline_js = [\n    function(Bokeh) {\n      Bokeh.set_log_level(\"info\");\n    },\n    \n    function(Bokeh) {\n      \n    },\n    function(Bokeh) {\n      console.log(\"Bokeh: injecting CSS: https://cdn.pydata.org/bokeh/release/bokeh-1.0.4.min.css\");\n      Bokeh.embed.inject_css(\"https://cdn.pydata.org/bokeh/release/bokeh-1.0.4.min.css\");\n      console.log(\"Bokeh: injecting CSS: https://cdn.pydata.org/bokeh/release/bokeh-widgets-1.0.4.min.css\");\n      Bokeh.embed.inject_css(\"https://cdn.pydata.org/bokeh/release/bokeh-widgets-1.0.4.min.css\");\n      console.log(\"Bokeh: injecting CSS: https://cdn.pydata.org/bokeh/release/bokeh-tables-1.0.4.min.css\");\n      Bokeh.embed.inject_css(\"https://cdn.pydata.org/bokeh/release/bokeh-tables-1.0.4.min.css\");\n    }\n  ];\n\n  function run_inline_js() {\n    \n    if ((root.Bokeh !== undefined) || (force === true)) {\n      for (var i = 0; i < inline_js.length; i++) {\n        inline_js[i].call(root, root.Bokeh);\n      }if (force === true) {\n        display_loaded();\n      }} else if (Date.now() < root._bokeh_timeout) {\n      setTimeout(run_inline_js, 100);\n    } else if (!root._bokeh_failed_load) {\n      console.log(\"Bokeh: BokehJS failed to load within specified timeout.\");\n      root._bokeh_failed_load = true;\n    } else if (force !== true) {\n      var cell = $(document.getElementById(\"1001\")).parents('.cell').data().cell;\n      cell.output_area.append_execute_result(NB_LOAD_WARNING)\n    }\n\n  }\n\n  if (root._bokeh_is_loading === 0) {\n    console.log(\"Bokeh: BokehJS loaded, going straight to plotting\");\n    run_inline_js();\n  } else {\n    load_libs(js_urls, function() {\n      console.log(\"Bokeh: BokehJS plotting callback run at\", now());\n      run_inline_js();\n    });\n  }\n}(window));"
     },
     "metadata": {},
     "output_type": "display_data"
    }
   ],
   "source": [
    "%load_ext autoreload\n",
    "%autoreload 2\n",
    "import sys\n",
    "sys.path.append(\"/Users/fdangelo/PycharmProjects/myRBM\")\n",
    "import numpy as np \n",
    "import scipy.constants as cs\n",
    "import deepdish as dd\n",
    "from sklearn.preprocessing import Binarizer\n",
    "from bokeh.io import output_notebook, show\n",
    "from bokeh.plotting import figure\n",
    "output_notebook()"
   ]
  },
  {
   "cell_type": "code",
   "execution_count": 2,
   "metadata": {
    "button": false,
    "new_sheet": false,
    "run_control": {
     "read_only": false
    }
   },
   "outputs": [
    {
     "data": {
      "text/plain": [
       "dict_keys(['T=2.000000', 'T=2.269000', 'T=2.500000'])"
      ]
     },
     "execution_count": 2,
     "metadata": {},
     "output_type": "execute_result"
    }
   ],
   "source": [
    "data = dd.io.load('/Users/fdangelo/PycharmProjects/myRBM/data/ising/ising_data.hdf5')\n",
    "data.keys()"
   ]
  },
  {
   "cell_type": "code",
   "execution_count": 3,
   "metadata": {
    "button": false,
    "new_sheet": false,
    "run_control": {
     "read_only": false
    }
   },
   "outputs": [],
   "source": [
    "data_T2 = data['T=2.000000']\n",
    "data_T2_26 = data['T=2.269000']\n",
    "data_T2_5 = data['T=2.500000']"
   ]
  },
  {
   "cell_type": "code",
   "execution_count": 4,
   "metadata": {
    "button": false,
    "new_sheet": false,
    "run_control": {
     "read_only": false
    }
   },
   "outputs": [],
   "source": [
    "binarizer = Binarizer(threshold=0)\n",
    "data_T2_binary = np.array([binarizer.fit_transform(slice) for slice in data_T2])\n",
    "data_T2_26_binary = np.array([binarizer.fit_transform(slice) for slice in data_T2_26])\n",
    "data_T2_5_binary = np.array([binarizer.fit_transform(slice) for slice in data_T2_5])"
   ]
  },
  {
   "cell_type": "code",
   "execution_count": 5,
   "metadata": {
    "button": false,
    "new_sheet": false,
    "run_control": {
     "read_only": false
    }
   },
   "outputs": [],
   "source": [
    "magn_T2 = np.abs(np.array([np.average(slice) for slice in data_T2]))\n",
    "magn_T2_26 = np.abs(np.array([np.average(slice) for slice in data_T2_26]))\n",
    "magn_T2_5= np.abs(np.array([np.average(slice) for slice in data_T2_5]))"
   ]
  },
  {
   "cell_type": "code",
   "execution_count": 21,
   "metadata": {
    "button": false,
    "new_sheet": false,
    "run_control": {
     "read_only": false
    }
   },
   "outputs": [
    {
     "data": {
      "text/html": [
       "\n",
       "\n",
       "\n",
       "\n",
       "\n",
       "\n",
       "  <div class=\"bk-root\" id=\"c6dc9ed3-f7d2-4036-bdc5-5d16811f2639\" data-root-id=\"2976\"></div>\n"
      ]
     },
     "metadata": {},
     "output_type": "display_data"
    },
    {
     "data": {
      "application/javascript": [
       "(function(root) {\n",
       "  function embed_document(root) {\n",
       "    \n",
       "  var docs_json = {\"ec5a5699-415b-4bb9-9726-b7455e6dd7b7\":{\"roots\":{\"references\":[{\"attributes\":{\"below\":[{\"id\":\"2985\",\"type\":\"LinearAxis\"}],\"left\":[{\"id\":\"2990\",\"type\":\"LinearAxis\"}],\"plot_height\":400,\"renderers\":[{\"id\":\"2985\",\"type\":\"LinearAxis\"},{\"id\":\"2989\",\"type\":\"Grid\"},{\"id\":\"2990\",\"type\":\"LinearAxis\"},{\"id\":\"2994\",\"type\":\"Grid\"},{\"id\":\"3003\",\"type\":\"BoxAnnotation\"},{\"id\":\"3022\",\"type\":\"Legend\"},{\"id\":\"3013\",\"type\":\"GlyphRenderer\"},{\"id\":\"3027\",\"type\":\"GlyphRenderer\"},{\"id\":\"3042\",\"type\":\"GlyphRenderer\"}],\"title\":{\"id\":\"3015\",\"type\":\"Title\"},\"toolbar\":{\"id\":\"3001\",\"type\":\"Toolbar\"},\"x_range\":{\"id\":\"2977\",\"type\":\"DataRange1d\"},\"x_scale\":{\"id\":\"2981\",\"type\":\"LinearScale\"},\"y_range\":{\"id\":\"2979\",\"type\":\"DataRange1d\"},\"y_scale\":{\"id\":\"2983\",\"type\":\"LinearScale\"}},\"id\":\"2976\",\"subtype\":\"Figure\",\"type\":\"Plot\"},{\"attributes\":{},\"id\":\"2983\",\"type\":\"LinearScale\"},{\"attributes\":{\"data_source\":{\"id\":\"3039\",\"type\":\"ColumnDataSource\"},\"glyph\":{\"id\":\"3040\",\"type\":\"Circle\"},\"hover_glyph\":null,\"muted_glyph\":null,\"nonselection_glyph\":{\"id\":\"3041\",\"type\":\"Circle\"},\"selection_glyph\":null,\"view\":{\"id\":\"3043\",\"type\":\"CDSView\"}},\"id\":\"3042\",\"type\":\"GlyphRenderer\"},{\"attributes\":{\"fill_alpha\":{\"value\":0.1},\"fill_color\":{\"value\":\"#1f77b4\"},\"line_alpha\":{\"value\":0.1},\"line_color\":{\"value\":\"#1f77b4\"},\"size\":{\"units\":\"screen\",\"value\":7},\"x\":{\"field\":\"x\"},\"y\":{\"field\":\"y\"}},\"id\":\"3041\",\"type\":\"Circle\"},{\"attributes\":{},\"id\":\"2995\",\"type\":\"PanTool\"},{\"attributes\":{\"source\":{\"id\":\"3039\",\"type\":\"ColumnDataSource\"}},\"id\":\"3043\",\"type\":\"CDSView\"},{\"attributes\":{},\"id\":\"3037\",\"type\":\"Selection\"},{\"attributes\":{},\"id\":\"3053\",\"type\":\"UnionRenderers\"},{\"attributes\":{},\"id\":\"2981\",\"type\":\"LinearScale\"},{\"attributes\":{\"items\":[{\"id\":\"3023\",\"type\":\"LegendItem\"},{\"id\":\"3038\",\"type\":\"LegendItem\"},{\"id\":\"3055\",\"type\":\"LegendItem\"}],\"location\":\"bottom_right\",\"plot\":{\"id\":\"2976\",\"subtype\":\"Figure\",\"type\":\"Plot\"}},\"id\":\"3022\",\"type\":\"Legend\"},{\"attributes\":{},\"id\":\"2996\",\"type\":\"WheelZoomTool\"},{\"attributes\":{},\"id\":\"3054\",\"type\":\"Selection\"},{\"attributes\":{},\"id\":\"3020\",\"type\":\"BasicTickFormatter\"},{\"attributes\":{\"label\":{\"value\":\"T = 2.269\"},\"renderers\":[{\"id\":\"3027\",\"type\":\"GlyphRenderer\"}]},\"id\":\"3038\",\"type\":\"LegendItem\"},{\"attributes\":{\"label\":{\"value\":\"T = 2.5\"},\"renderers\":[{\"id\":\"3042\",\"type\":\"GlyphRenderer\"}]},\"id\":\"3055\",\"type\":\"LegendItem\"},{\"attributes\":{\"callback\":null},\"id\":\"2979\",\"type\":\"DataRange1d\"},{\"attributes\":{\"source\":{\"id\":\"3024\",\"type\":\"ColumnDataSource\"}},\"id\":\"3028\",\"type\":\"CDSView\"},{\"attributes\":{\"label\":{\"value\":\"T = 2.0\"},\"renderers\":[{\"id\":\"3013\",\"type\":\"GlyphRenderer\"}]},\"id\":\"3023\",\"type\":\"LegendItem\"},{\"attributes\":{\"callback\":null,\"data\":{\"x\":[0,1,2,3,4,5,6,7,8,9,10,11,12,13,14,15,16,17,18,19,20,21,22,23,24,25,26,27,28,29,30,31,32,33,34,35,36,37,38,39,40,41,42,43,44,45,46,47,48,49,50,51,52,53,54,55,56,57,58,59,60,61,62,63,64,65,66,67,68,69,70,71,72,73,74,75,76,77,78,79,80,81,82,83,84,85,86,87,88,89,90,91,92,93,94,95,96,97,98,99,100,101,102,103,104,105,106,107,108,109,110,111,112,113,114,115,116,117,118,119,120,121,122,123,124,125,126,127,128,129,130,131,132,133,134,135,136,137,138,139,140,141,142,143,144,145,146,147,148,149,150,151,152,153,154,155,156,157,158,159,160,161,162,163,164,165,166,167,168,169,170,171,172,173,174,175,176,177,178,179,180,181,182,183,184,185,186,187,188,189,190,191,192,193,194,195,196,197,198,199,200,201,202,203,204,205,206,207,208,209,210,211,212,213,214,215,216,217,218,219,220,221,222,223,224,225,226,227,228,229,230,231,232,233,234,235,236,237,238,239,240,241,242,243,244,245,246,247,248,249,250,251,252,253,254,255,256,257,258,259,260,261,262,263,264,265,266,267,268,269,270,271,272,273,274,275,276,277,278,279,280,281,282,283,284,285,286,287,288,289,290,291,292,293,294,295,296,297,298,299,300,301,302,303,304,305,306,307,308,309,310,311,312,313,314,315,316,317,318,319,320,321,322,323,324,325,326,327,328,329,330,331,332,333,334,335,336,337,338,339,340,341,342,343,344,345,346,347,348,349,350,351,352,353,354,355,356,357,358,359,360,361,362,363,364,365,366,367,368,369,370,371,372,373,374,375,376,377,378,379,380,381,382,383,384,385,386,387,388,389,390,391,392,393,394,395,396,397,398,399,400,401,402,403,404,405,406,407,408,409,410,411,412,413,414,415,416,417,418,419,420,421,422,423,424,425,426,427,428,429,430,431,432,433,434,435,436,437,438,439,440,441,442,443,444,445,446,447,448,449,450,451,452,453,454,455,456,457,458,459,460,461,462,463,464,465,466,467,468,469,470,471,472,473,474,475,476,477,478,479,480,481,482,483,484,485,486,487,488,489,490,491,492,493,494,495,496,497,498,499,500,501,502,503,504,505,506,507,508,509,510,511,512,513,514,515,516,517,518,519,520,521,522,523,524,525,526,527,528,529,530,531,532,533,534,535,536,537,538,539,540,541,542,543,544,545,546,547,548,549,550,551,552,553,554,555,556,557,558,559,560,561,562,563,564,565,566,567,568,569,570,571,572,573,574,575,576,577,578,579,580,581,582,583,584,585,586,587,588,589,590,591,592,593,594,595,596,597,598,599,600,601,602,603,604,605,606,607,608,609,610,611,612,613,614,615,616,617,618,619,620,621,622,623,624,625,626,627,628,629,630,631,632,633,634,635,636,637,638,639,640,641,642,643,644,645,646,647,648,649,650,651,652,653,654,655,656,657,658,659,660,661,662,663,664,665,666,667,668,669,670,671,672,673,674,675,676,677,678,679,680,681,682,683,684,685,686,687,688,689,690,691,692,693,694,695,696,697,698,699,700,701,702,703,704,705,706,707,708,709,710,711,712,713,714,715,716,717,718,719,720,721,722,723,724,725,726,727,728,729,730,731,732,733,734,735,736,737,738,739,740,741,742,743,744,745,746,747,748,749,750,751,752,753,754,755,756,757,758,759,760,761,762,763,764,765,766,767,768,769,770,771,772,773,774,775,776,777,778,779,780,781,782,783,784,785,786,787,788,789,790,791,792,793,794,795,796,797,798,799,800,801,802,803,804,805,806,807,808,809,810,811,812,813,814,815,816,817,818,819,820,821,822,823,824,825,826,827,828,829,830,831,832,833,834,835,836,837,838,839,840,841,842,843,844,845,846,847,848,849,850,851,852,853,854,855,856,857,858,859,860,861,862,863,864,865,866,867,868,869,870,871,872,873,874,875,876,877,878,879,880,881,882,883,884,885,886,887,888,889,890,891,892,893,894,895,896,897,898,899,900,901,902,903,904,905,906,907,908,909,910,911,912,913,914,915,916,917,918,919,920,921,922,923,924,925,926,927,928,929,930,931,932,933,934,935,936,937,938,939,940,941,942,943,944,945,946,947,948,949,950,951,952,953,954,955,956,957,958,959,960,961,962,963,964,965,966,967,968,969,970,971,972,973,974,975,976,977,978,979,980,981,982,983,984,985,986,987,988,989,990,991,992,993,994,995,996,997,998,999],\"y\":{\"__ndarray__\":\"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\",\"dtype\":\"float64\",\"shape\":[1000]}},\"selected\":{\"id\":\"3037\",\"type\":\"Selection\"},\"selection_policy\":{\"id\":\"3036\",\"type\":\"UnionRenderers\"}},\"id\":\"3010\",\"type\":\"ColumnDataSource\"},{\"attributes\":{\"plot\":null,\"text\":\"\"},\"id\":\"3015\",\"type\":\"Title\"},{\"attributes\":{\"plot\":{\"id\":\"2976\",\"subtype\":\"Figure\",\"type\":\"Plot\"},\"ticker\":{\"id\":\"2986\",\"type\":\"BasicTicker\"}},\"id\":\"2989\",\"type\":\"Grid\"},{\"attributes\":{},\"id\":\"3181\",\"type\":\"UnionRenderers\"},{\"attributes\":{\"fill_alpha\":{\"value\":0.1},\"fill_color\":{\"value\":\"#1f77b4\"},\"line_alpha\":{\"value\":0.1},\"line_color\":{\"value\":\"#1f77b4\"},\"size\":{\"units\":\"screen\",\"value\":7},\"x\":{\"field\":\"x\"},\"y\":{\"field\":\"y\"}},\"id\":\"3012\",\"type\":\"Circle\"},{\"attributes\":{\"fill_alpha\":{\"value\":0.1},\"fill_color\":{\"value\":\"#1f77b4\"},\"line_alpha\":{\"value\":0.1},\"line_color\":{\"value\":\"#1f77b4\"},\"size\":{\"units\":\"screen\",\"value\":7},\"x\":{\"field\":\"x\"},\"y\":{\"field\":\"y\"}},\"id\":\"3026\",\"type\":\"Circle\"},{\"attributes\":{},\"id\":\"3182\",\"type\":\"Selection\"},{\"attributes\":{},\"id\":\"3000\",\"type\":\"HelpTool\"},{\"attributes\":{\"fill_alpha\":{\"value\":0.5},\"fill_color\":{\"value\":\"green\"},\"line_color\":{\"value\":\"navy\"},\"size\":{\"units\":\"screen\",\"value\":7},\"x\":{\"field\":\"x\"},\"y\":{\"field\":\"y\"}},\"id\":\"3011\",\"type\":\"Circle\"},{\"attributes\":{},\"id\":\"3018\",\"type\":\"BasicTickFormatter\"},{\"attributes\":{\"callback\":null,\"data\":{\"x\":[0,1,2,3,4,5,6,7,8,9,10,11,12,13,14,15,16,17,18,19,20,21,22,23,24,25,26,27,28,29,30,31,32,33,34,35,36,37,38,39,40,41,42,43,44,45,46,47,48,49,50,51,52,53,54,55,56,57,58,59,60,61,62,63,64,65,66,67,68,69,70,71,72,73,74,75,76,77,78,79,80,81,82,83,84,85,86,87,88,89,90,91,92,93,94,95,96,97,98,99,100,101,102,103,104,105,106,107,108,109,110,111,112,113,114,115,116,117,118,119,120,121,122,123,124,125,126,127,128,129,130,131,132,133,134,135,136,137,138,139,140,141,142,143,144,145,146,147,148,149,150,151,152,153,154,155,156,157,158,159,160,161,162,163,164,165,166,167,168,169,170,171,172,173,174,175,176,177,178,179,180,181,182,183,184,185,186,187,188,189,190,191,192,193,194,195,196,197,198,199,200,201,202,203,204,205,206,207,208,209,210,211,212,213,214,215,216,217,218,219,220,221,222,223,224,225,226,227,228,229,230,231,232,233,234,235,236,237,238,239,240,241,242,243,244,245,246,247,248,249,250,251,252,253,254,255,256,257,258,259,260,261,262,263,264,265,266,267,268,269,270,271,272,273,274,275,276,277,278,279,280,281,282,283,284,285,286,287,288,289,290,291,292,293,294,295,296,297,298,299,300,301,302,303,304,305,306,307,308,309,310,311,312,313,314,315,316,317,318,319,320,321,322,323,324,325,326,327,328,329,330,331,332,333,334,335,336,337,338,339,340,341,342,343,344,345,346,347,348,349,350,351,352,353,354,355,356,357,358,359,360,361,362,363,364,365,366,367,368,369,370,371,372,373,374,375,376,377,378,379,380,381,382,383,384,385,386,387,388,389,390,391,392,393,394,395,396,397,398,399,400,401,402,403,404,405,406,407,408,409,410,411,412,413,414,415,416,417,418,419,420,421,422,423,424,425,426,427,428,429,430,431,432,433,434,435,436,437,438,439,440,441,442,443,444,445,446,447,448,449,450,451,452,453,454,455,456,457,458,459,460,461,462,463,464,465,466,467,468,469,470,471,472,473,474,475,476,477,478,479,480,481,482,483,484,485,486,487,488,489,490,491,492,493,494,495,496,497,498,499,500,501,502,503,504,505,506,507,508,509,510,511,512,513,514,515,516,517,518,519,520,521,522,523,524,525,526,527,528,529,530,531,532,533,534,535,536,537,538,539,540,541,542,543,544,545,546,547,548,549,550,551,552,553,554,555,556,557,558,559,560,561,562,563,564,565,566,567,568,569,570,571,572,573,574,575,576,577,578,579,580,581,582,583,584,585,586,587,588,589,590,591,592,593,594,595,596,597,598,599,600,601,602,603,604,605,606,607,608,609,610,611,612,613,614,615,616,617,618,619,620,621,622,623,624,625,626,627,628,629,630,631,632,633,634,635,636,637,638,639,640,641,642,643,644,645,646,647,648,649,650,651,652,653,654,655,656,657,658,659,660,661,662,663,664,665,666,667,668,669,670,671,672,673,674,675,676,677,678,679,680,681,682,683,684,685,686,687,688,689,690,691,692,693,694,695,696,697,698,699,700,701,702,703,704,705,706,707,708,709,710,711,712,713,714,715,716,717,718,719,720,721,722,723,724,725,726,727,728,729,730,731,732,733,734,735,736,737,738,739,740,741,742,743,744,745,746,747,748,749,750,751,752,753,754,755,756,757,758,759,760,761,762,763,764,765,766,767,768,769,770,771,772,773,774,775,776,777,778,779,780,781,782,783,784,785,786,787,788,789,790,791,792,793,794,795,796,797,798,799,800,801,802,803,804,805,806,807,808,809,810,811,812,813,814,815,816,817,818,819,820,821,822,823,824,825,826,827,828,829,830,831,832,833,834,835,836,837,838,839,840,841,842,843,844,845,846,847,848,849,850,851,852,853,854,855,856,857,858,859,860,861,862,863,864,865,866,867,868,869,870,871,872,873,874,875,876,877,878,879,880,881,882,883,884,885,886,887,888,889,890,891,892,893,894,895,896,897,898,899,900,901,902,903,904,905,906,907,908,909,910,911,912,913,914,915,916,917,918,919,920,921,922,923,924,925,926,927,928,929,930,931,932,933,934,935,936,937,938,939,940,941,942,943,944,945,946,947,948,949,950,951,952,953,954,955,956,957,958,959,960,961,962,963,964,965,966,967,968,969,970,971,972,973,974,975,976,977,978,979,980,981,982,983,984,985,986,987,988,989,990,991,992,993,994,995,996,997,998,999],\"y\":{\"__ndarray__\":\"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\",\"dtype\":\"float64\",\"shape\":[1000]}},\"selected\":{\"id\":\"3182\",\"type\":\"Selection\"},\"selection_policy\":{\"id\":\"3181\",\"type\":\"UnionRenderers\"}},\"id\":\"3039\",\"type\":\"ColumnDataSource\"},{\"attributes\":{\"callback\":null},\"id\":\"2977\",\"type\":\"DataRange1d\"},{\"attributes\":{\"data_source\":{\"id\":\"3024\",\"type\":\"ColumnDataSource\"},\"glyph\":{\"id\":\"3025\",\"type\":\"Circle\"},\"hover_glyph\":null,\"muted_glyph\":null,\"nonselection_glyph\":{\"id\":\"3026\",\"type\":\"Circle\"},\"selection_glyph\":null,\"view\":{\"id\":\"3028\",\"type\":\"CDSView\"}},\"id\":\"3027\",\"type\":\"GlyphRenderer\"},{\"attributes\":{\"active_drag\":\"auto\",\"active_inspect\":\"auto\",\"active_multi\":null,\"active_scroll\":\"auto\",\"active_tap\":\"auto\",\"tools\":[{\"id\":\"2995\",\"type\":\"PanTool\"},{\"id\":\"2996\",\"type\":\"WheelZoomTool\"},{\"id\":\"2997\",\"type\":\"BoxZoomTool\"},{\"id\":\"2998\",\"type\":\"SaveTool\"},{\"id\":\"2999\",\"type\":\"ResetTool\"},{\"id\":\"3000\",\"type\":\"HelpTool\"}]},\"id\":\"3001\",\"type\":\"Toolbar\"},{\"attributes\":{\"fill_alpha\":{\"value\":0.5},\"fill_color\":{\"value\":\"blue\"},\"line_color\":{\"value\":\"navy\"},\"size\":{\"units\":\"screen\",\"value\":7},\"x\":{\"field\":\"x\"},\"y\":{\"field\":\"y\"}},\"id\":\"3040\",\"type\":\"Circle\"},{\"attributes\":{\"axis_label\":\"Sample\",\"formatter\":{\"id\":\"3018\",\"type\":\"BasicTickFormatter\"},\"plot\":{\"id\":\"2976\",\"subtype\":\"Figure\",\"type\":\"Plot\"},\"ticker\":{\"id\":\"2986\",\"type\":\"BasicTicker\"}},\"id\":\"2985\",\"type\":\"LinearAxis\"},{\"attributes\":{\"fill_alpha\":{\"value\":0.5},\"fill_color\":{\"value\":\"yellow\"},\"line_color\":{\"value\":\"navy\"},\"size\":{\"units\":\"screen\",\"value\":7},\"x\":{\"field\":\"x\"},\"y\":{\"field\":\"y\"}},\"id\":\"3025\",\"type\":\"Circle\"},{\"attributes\":{\"data_source\":{\"id\":\"3010\",\"type\":\"ColumnDataSource\"},\"glyph\":{\"id\":\"3011\",\"type\":\"Circle\"},\"hover_glyph\":null,\"muted_glyph\":null,\"nonselection_glyph\":{\"id\":\"3012\",\"type\":\"Circle\"},\"selection_glyph\":null,\"view\":{\"id\":\"3014\",\"type\":\"CDSView\"}},\"id\":\"3013\",\"type\":\"GlyphRenderer\"},{\"attributes\":{\"source\":{\"id\":\"3010\",\"type\":\"ColumnDataSource\"}},\"id\":\"3014\",\"type\":\"CDSView\"},{\"attributes\":{\"dimension\":1,\"plot\":{\"id\":\"2976\",\"subtype\":\"Figure\",\"type\":\"Plot\"},\"ticker\":{\"id\":\"2991\",\"type\":\"BasicTicker\"}},\"id\":\"2994\",\"type\":\"Grid\"},{\"attributes\":{},\"id\":\"2986\",\"type\":\"BasicTicker\"},{\"attributes\":{},\"id\":\"3036\",\"type\":\"UnionRenderers\"},{\"attributes\":{\"bottom_units\":\"screen\",\"fill_alpha\":{\"value\":0.5},\"fill_color\":{\"value\":\"lightgrey\"},\"left_units\":\"screen\",\"level\":\"overlay\",\"line_alpha\":{\"value\":1.0},\"line_color\":{\"value\":\"black\"},\"line_dash\":[4,4],\"line_width\":{\"value\":2},\"plot\":null,\"render_mode\":\"css\",\"right_units\":\"screen\",\"top_units\":\"screen\"},\"id\":\"3003\",\"type\":\"BoxAnnotation\"},{\"attributes\":{},\"id\":\"2998\",\"type\":\"SaveTool\"},{\"attributes\":{\"overlay\":{\"id\":\"3003\",\"type\":\"BoxAnnotation\"}},\"id\":\"2997\",\"type\":\"BoxZoomTool\"},{\"attributes\":{\"callback\":null,\"data\":{\"x\":[0,1,2,3,4,5,6,7,8,9,10,11,12,13,14,15,16,17,18,19,20,21,22,23,24,25,26,27,28,29,30,31,32,33,34,35,36,37,38,39,40,41,42,43,44,45,46,47,48,49,50,51,52,53,54,55,56,57,58,59,60,61,62,63,64,65,66,67,68,69,70,71,72,73,74,75,76,77,78,79,80,81,82,83,84,85,86,87,88,89,90,91,92,93,94,95,96,97,98,99,100,101,102,103,104,105,106,107,108,109,110,111,112,113,114,115,116,117,118,119,120,121,122,123,124,125,126,127,128,129,130,131,132,133,134,135,136,137,138,139,140,141,142,143,144,145,146,147,148,149,150,151,152,153,154,155,156,157,158,159,160,161,162,163,164,165,166,167,168,169,170,171,172,173,174,175,176,177,178,179,180,181,182,183,184,185,186,187,188,189,190,191,192,193,194,195,196,197,198,199,200,201,202,203,204,205,206,207,208,209,210,211,212,213,214,215,216,217,218,219,220,221,222,223,224,225,226,227,228,229,230,231,232,233,234,235,236,237,238,239,240,241,242,243,244,245,246,247,248,249,250,251,252,253,254,255,256,257,258,259,260,261,262,263,264,265,266,267,268,269,270,271,272,273,274,275,276,277,278,279,280,281,282,283,284,285,286,287,288,289,290,291,292,293,294,295,296,297,298,299,300,301,302,303,304,305,306,307,308,309,310,311,312,313,314,315,316,317,318,319,320,321,322,323,324,325,326,327,328,329,330,331,332,333,334,335,336,337,338,339,340,341,342,343,344,345,346,347,348,349,350,351,352,353,354,355,356,357,358,359,360,361,362,363,364,365,366,367,368,369,370,371,372,373,374,375,376,377,378,379,380,381,382,383,384,385,386,387,388,389,390,391,392,393,394,395,396,397,398,399,400,401,402,403,404,405,406,407,408,409,410,411,412,413,414,415,416,417,418,419,420,421,422,423,424,425,426,427,428,429,430,431,432,433,434,435,436,437,438,439,440,441,442,443,444,445,446,447,448,449,450,451,452,453,454,455,456,457,458,459,460,461,462,463,464,465,466,467,468,469,470,471,472,473,474,475,476,477,478,479,480,481,482,483,484,485,486,487,488,489,490,491,492,493,494,495,496,497,498,499,500,501,502,503,504,505,506,507,508,509,510,511,512,513,514,515,516,517,518,519,520,521,522,523,524,525,526,527,528,529,530,531,532,533,534,535,536,537,538,539,540,541,542,543,544,545,546,547,548,549,550,551,552,553,554,555,556,557,558,559,560,561,562,563,564,565,566,567,568,569,570,571,572,573,574,575,576,577,578,579,580,581,582,583,584,585,586,587,588,589,590,591,592,593,594,595,596,597,598,599,600,601,602,603,604,605,606,607,608,609,610,611,612,613,614,615,616,617,618,619,620,621,622,623,624,625,626,627,628,629,630,631,632,633,634,635,636,637,638,639,640,641,642,643,644,645,646,647,648,649,650,651,652,653,654,655,656,657,658,659,660,661,662,663,664,665,666,667,668,669,670,671,672,673,674,675,676,677,678,679,680,681,682,683,684,685,686,687,688,689,690,691,692,693,694,695,696,697,698,699,700,701,702,703,704,705,706,707,708,709,710,711,712,713,714,715,716,717,718,719,720,721,722,723,724,725,726,727,728,729,730,731,732,733,734,735,736,737,738,739,740,741,742,743,744,745,746,747,748,749,750,751,752,753,754,755,756,757,758,759,760,761,762,763,764,765,766,767,768,769,770,771,772,773,774,775,776,777,778,779,780,781,782,783,784,785,786,787,788,789,790,791,792,793,794,795,796,797,798,799,800,801,802,803,804,805,806,807,808,809,810,811,812,813,814,815,816,817,818,819,820,821,822,823,824,825,826,827,828,829,830,831,832,833,834,835,836,837,838,839,840,841,842,843,844,845,846,847,848,849,850,851,852,853,854,855,856,857,858,859,860,861,862,863,864,865,866,867,868,869,870,871,872,873,874,875,876,877,878,879,880,881,882,883,884,885,886,887,888,889,890,891,892,893,894,895,896,897,898,899,900,901,902,903,904,905,906,907,908,909,910,911,912,913,914,915,916,917,918,919,920,921,922,923,924,925,926,927,928,929,930,931,932,933,934,935,936,937,938,939,940,941,942,943,944,945,946,947,948,949,950,951,952,953,954,955,956,957,958,959,960,961,962,963,964,965,966,967,968,969,970,971,972,973,974,975,976,977,978,979,980,981,982,983,984,985,986,987,988,989,990,991,992,993,994,995,996,997,998,999],\"y\":{\"__ndarray__\":\"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\",\"dtype\":\"float64\",\"shape\":[1000]}},\"selected\":{\"id\":\"3054\",\"type\":\"Selection\"},\"selection_policy\":{\"id\":\"3053\",\"type\":\"UnionRenderers\"}},\"id\":\"3024\",\"type\":\"ColumnDataSource\"},{\"attributes\":{},\"id\":\"2999\",\"type\":\"ResetTool\"},{\"attributes\":{\"axis_label\":\"Magnetization\",\"formatter\":{\"id\":\"3020\",\"type\":\"BasicTickFormatter\"},\"plot\":{\"id\":\"2976\",\"subtype\":\"Figure\",\"type\":\"Plot\"},\"ticker\":{\"id\":\"2991\",\"type\":\"BasicTicker\"}},\"id\":\"2990\",\"type\":\"LinearAxis\"},{\"attributes\":{},\"id\":\"2991\",\"type\":\"BasicTicker\"}],\"root_ids\":[\"2976\"]},\"title\":\"Bokeh Application\",\"version\":\"1.0.4\"}};\n",
       "  var render_items = [{\"docid\":\"ec5a5699-415b-4bb9-9726-b7455e6dd7b7\",\"roots\":{\"2976\":\"c6dc9ed3-f7d2-4036-bdc5-5d16811f2639\"}}];\n",
       "  root.Bokeh.embed.embed_items_notebook(docs_json, render_items);\n",
       "\n",
       "  }\n",
       "  if (root.Bokeh !== undefined) {\n",
       "    embed_document(root);\n",
       "  } else {\n",
       "    var attempts = 0;\n",
       "    var timer = setInterval(function(root) {\n",
       "      if (root.Bokeh !== undefined) {\n",
       "        embed_document(root);\n",
       "        clearInterval(timer);\n",
       "      }\n",
       "      attempts++;\n",
       "      if (attempts > 100) {\n",
       "        console.log(\"Bokeh: ERROR: Unable to run BokehJS code because BokehJS library is missing\");\n",
       "        clearInterval(timer);\n",
       "      }\n",
       "    }, 10, root)\n",
       "  }\n",
       "})(window);"
      ],
      "application/vnd.bokehjs_exec.v0+json": ""
     },
     "metadata": {
      "application/vnd.bokehjs_exec.v0+json": {
       "id": "2976"
      }
     },
     "output_type": "display_data"
    }
   ],
   "source": [
    "# create a new plot with default tools, using figure\n",
    "p = figure(plot_width=600, plot_height=400)\n",
    "\n",
    "# add a circle renderer with x and y coordinates, size, color, and alpha\n",
    "p.circle(np.arange(len(magn_T2)),magn_T2, size=7, line_color=\"navy\", fill_color=\"green\", fill_alpha=0.5, legend = 'T = 2.0')\n",
    "p.circle(np.arange(len(magn_T2)),magn_T2_26, size=7, line_color=\"navy\", fill_color=\"yellow\", fill_alpha=0.5, legend = 'T = 2.269')\n",
    "p.circle(np.arange(len(magn_T2)),magn_T2_5, size=7, line_color=\"navy\", fill_color=\"blue\", fill_alpha=0.5, legend = 'T = 2.5')\n",
    "\n",
    "p.yaxis.axis_label = \"Magnetization\"\n",
    "p.xaxis.axis_label = \"Sample\"\n",
    "p.legend.location = \"bottom_right\"\n",
    "show(p) # show the results"
   ]
  },
  {
   "cell_type": "code",
   "execution_count": 9,
   "metadata": {
    "button": false,
    "new_sheet": false,
    "run_control": {
     "read_only": false
    }
   },
   "outputs": [
    {
     "name": "stderr",
     "output_type": "stream",
     "text": [
      "/Users/fdangelo/anaconda3/envs/RBM/lib/python3.6/site-packages/ipykernel_launcher.py:11: RuntimeWarning: invalid value encountered in power\n",
      "  # This is added back by InteractiveShellApp.init_path()\n"
     ]
    }
   ],
   "source": [
    "mean_magn_T2 = np.average(magn_T2)\n",
    "mean_magn_T2_26 = np.average(magn_T2_26)\n",
    "mean_magn_T2_5= np.average(magn_T2_5)\n",
    "std_magn_T2 = np.std(magn_T2)\n",
    "std_magn_T2_26 = np.std(magn_T2_26)\n",
    "std_magn_T2_5= np.std(magn_T2_5)\n",
    "mean_magn_temp = [mean_magn_T2,mean_magn_T2_26,mean_magn_T2_5]\n",
    "std_magn_temp = [std_magn_T2,std_magn_T2_26,std_magn_T2_5]\n",
    "temp = [2.0/2.269,2.269/2.269,2.5/2.269]\n",
    "T = np.linspace(0.1,2.3,100)\n",
    "teor_magn = np.nan_to_num(np.power((1-np.power(np.sinh(2/(T)),-4)),0.125))"
   ]
  },
  {
   "cell_type": "code",
   "execution_count": 22,
   "metadata": {
    "button": false,
    "new_sheet": false,
    "run_control": {
     "read_only": false
    }
   },
   "outputs": [
    {
     "data": {
      "text/html": [
       "\n",
       "\n",
       "\n",
       "\n",
       "\n",
       "\n",
       "  <div class=\"bk-root\" id=\"0c40e103-cc19-40a1-b9ab-a0fdfd3ba0ba\" data-root-id=\"3261\"></div>\n"
      ]
     },
     "metadata": {},
     "output_type": "display_data"
    },
    {
     "data": {
      "application/javascript": [
       "(function(root) {\n",
       "  function embed_document(root) {\n",
       "    \n",
       "  var docs_json = {\"0e8ec01a-0aa5-4971-ba6d-c26f09d38400\":{\"roots\":{\"references\":[{\"attributes\":{\"below\":[{\"id\":\"3270\",\"type\":\"LinearAxis\"}],\"left\":[{\"id\":\"3275\",\"type\":\"LinearAxis\"}],\"plot_height\":400,\"renderers\":[{\"id\":\"3270\",\"type\":\"LinearAxis\"},{\"id\":\"3274\",\"type\":\"Grid\"},{\"id\":\"3275\",\"type\":\"LinearAxis\"},{\"id\":\"3279\",\"type\":\"Grid\"},{\"id\":\"3288\",\"type\":\"BoxAnnotation\"},{\"id\":\"3307\",\"type\":\"Legend\"},{\"id\":\"3298\",\"type\":\"GlyphRenderer\"},{\"id\":\"3312\",\"type\":\"GlyphRenderer\"},{\"id\":\"3325\",\"type\":\"Whisker\"}],\"title\":{\"id\":\"3300\",\"type\":\"Title\"},\"toolbar\":{\"id\":\"3286\",\"type\":\"Toolbar\"},\"x_range\":{\"id\":\"3262\",\"type\":\"DataRange1d\"},\"x_scale\":{\"id\":\"3266\",\"type\":\"LinearScale\"},\"y_range\":{\"id\":\"3264\",\"type\":\"DataRange1d\"},\"y_scale\":{\"id\":\"3268\",\"type\":\"LinearScale\"}},\"id\":\"3261\",\"subtype\":\"Figure\",\"type\":\"Plot\"},{\"attributes\":{},\"id\":\"3268\",\"type\":\"LinearScale\"},{\"attributes\":{\"axis_label\":\"T/Tcritic\",\"formatter\":{\"id\":\"3303\",\"type\":\"BasicTickFormatter\"},\"plot\":{\"id\":\"3261\",\"subtype\":\"Figure\",\"type\":\"Plot\"},\"ticker\":{\"id\":\"3271\",\"type\":\"BasicTicker\"}},\"id\":\"3270\",\"type\":\"LinearAxis\"},{\"attributes\":{\"active_drag\":\"auto\",\"active_inspect\":\"auto\",\"active_multi\":null,\"active_scroll\":\"auto\",\"active_tap\":\"auto\",\"tools\":[{\"id\":\"3280\",\"type\":\"PanTool\"},{\"id\":\"3281\",\"type\":\"WheelZoomTool\"},{\"id\":\"3282\",\"type\":\"BoxZoomTool\"},{\"id\":\"3283\",\"type\":\"SaveTool\"},{\"id\":\"3284\",\"type\":\"ResetTool\"},{\"id\":\"3285\",\"type\":\"HelpTool\"}]},\"id\":\"3286\",\"type\":\"Toolbar\"},{\"attributes\":{\"level\":\"underlay\",\"plot\":null,\"size\":10},\"id\":\"3460\",\"type\":\"TeeHead\"},{\"attributes\":{\"bottom_units\":\"screen\",\"fill_alpha\":{\"value\":0.5},\"fill_color\":{\"value\":\"lightgrey\"},\"left_units\":\"screen\",\"level\":\"overlay\",\"line_alpha\":{\"value\":1.0},\"line_color\":{\"value\":\"black\"},\"line_dash\":[4,4],\"line_width\":{\"value\":2},\"plot\":null,\"render_mode\":\"css\",\"right_units\":\"screen\",\"top_units\":\"screen\"},\"id\":\"3288\",\"type\":\"BoxAnnotation\"},{\"attributes\":{},\"id\":\"3271\",\"type\":\"BasicTicker\"},{\"attributes\":{\"level\":\"underlay\",\"plot\":null,\"size\":10},\"id\":\"3461\",\"type\":\"TeeHead\"},{\"attributes\":{\"data_source\":{\"id\":\"3295\",\"type\":\"ColumnDataSource\"},\"glyph\":{\"id\":\"3296\",\"type\":\"Circle\"},\"hover_glyph\":null,\"muted_glyph\":null,\"nonselection_glyph\":{\"id\":\"3297\",\"type\":\"Circle\"},\"selection_glyph\":null,\"view\":{\"id\":\"3299\",\"type\":\"CDSView\"}},\"id\":\"3298\",\"type\":\"GlyphRenderer\"},{\"attributes\":{},\"id\":\"3465\",\"type\":\"UnionRenderers\"},{\"attributes\":{\"source\":{\"id\":\"3295\",\"type\":\"ColumnDataSource\"}},\"id\":\"3299\",\"type\":\"CDSView\"},{\"attributes\":{},\"id\":\"3466\",\"type\":\"Selection\"},{\"attributes\":{},\"id\":\"3285\",\"type\":\"HelpTool\"},{\"attributes\":{\"plot\":null,\"text\":\"\"},\"id\":\"3300\",\"type\":\"Title\"},{\"attributes\":{},\"id\":\"3467\",\"type\":\"UnionRenderers\"},{\"attributes\":{},\"id\":\"3303\",\"type\":\"BasicTickFormatter\"},{\"attributes\":{},\"id\":\"3468\",\"type\":\"Selection\"},{\"attributes\":{},\"id\":\"3305\",\"type\":\"BasicTickFormatter\"},{\"attributes\":{\"items\":[{\"id\":\"3308\",\"type\":\"LegendItem\"},{\"id\":\"3323\",\"type\":\"LegendItem\"}],\"location\":\"bottom_left\",\"plot\":{\"id\":\"3261\",\"subtype\":\"Figure\",\"type\":\"Plot\"}},\"id\":\"3307\",\"type\":\"Legend\"},{\"attributes\":{},\"id\":\"3321\",\"type\":\"UnionRenderers\"},{\"attributes\":{\"axis_label\":\"Magnetization\",\"formatter\":{\"id\":\"3305\",\"type\":\"BasicTickFormatter\"},\"plot\":{\"id\":\"3261\",\"subtype\":\"Figure\",\"type\":\"Plot\"},\"ticker\":{\"id\":\"3276\",\"type\":\"BasicTicker\"}},\"id\":\"3275\",\"type\":\"LinearAxis\"},{\"attributes\":{\"label\":{\"value\":\"Simulated conf\"},\"renderers\":[{\"id\":\"3298\",\"type\":\"GlyphRenderer\"}]},\"id\":\"3308\",\"type\":\"LegendItem\"},{\"attributes\":{\"callback\":null,\"data\":{\"base\":[0.881445570736007,1.0,1.1018069634200087],\"lower\":{\"__ndarray__\":\"bD1jeXks7D8wPJNiQA3ePxQz2PPqTLA/\",\"dtype\":\"float64\",\"shape\":[3]},\"upper\":{\"__ndarray__\":\"XmTiPHoN7j/IsUNmznPqP/MRjy4XtdU/\",\"dtype\":\"float64\",\"shape\":[3]}},\"selected\":{\"id\":\"3468\",\"type\":\"Selection\"},\"selection_policy\":{\"id\":\"3467\",\"type\":\"UnionRenderers\"}},\"id\":\"3324\",\"type\":\"ColumnDataSource\"},{\"attributes\":{\"line_alpha\":0.6,\"line_color\":\"red\",\"line_width\":3,\"x\":{\"field\":\"x\"},\"y\":{\"field\":\"y\"}},\"id\":\"3310\",\"type\":\"Line\"},{\"attributes\":{},\"id\":\"3281\",\"type\":\"WheelZoomTool\"},{\"attributes\":{},\"id\":\"3280\",\"type\":\"PanTool\"},{\"attributes\":{\"overlay\":{\"id\":\"3288\",\"type\":\"BoxAnnotation\"}},\"id\":\"3282\",\"type\":\"BoxZoomTool\"},{\"attributes\":{\"line_alpha\":0.1,\"line_color\":\"#1f77b4\",\"line_width\":3,\"x\":{\"field\":\"x\"},\"y\":{\"field\":\"y\"}},\"id\":\"3311\",\"type\":\"Line\"},{\"attributes\":{},\"id\":\"3322\",\"type\":\"Selection\"},{\"attributes\":{},\"id\":\"3283\",\"type\":\"SaveTool\"},{\"attributes\":{\"callback\":null,\"data\":{\"x\":{\"__ndarray__\":\"2ZbzRaSQpj9fuCkAV5SrP/HsL90ETLA/tP1KOt7Nsj93DmaXt0+1PzofgfSQ0bc//C+cUWpTuj+/QLeuQ9W8P4JR0gsdV78/IrF2NHvswD+DOQTjZy3CP+XBkZFUbsM/RUofQEGvxD+n0qzuLfDFPwlbOp0aMcc/a+PHSwdyyD/La1X687LJPy304qjg88o/j3xwV800zD/vBP4FunXNP1GNi7Smts4/shUZY5P3zz8JT9MIQJzQPzoTGmC2PNE/atdgtyzd0T+bm6cOo33SP8xf7mUZHtM//SM1vY++0z8t6HsUBl/UP16swmt8/9Q/j3AJw/Kf1T+/NFAaaUDWP/D4lnHf4NY/Ib3dyFWB1z9RgSQgzCHYP4JFa3dCwtg/swmyzrhi2T/jzfglLwPaPxSSP32lo9o/RVaG1BtE2z92Gs0rkuTbP6feE4MIhdw/16Ja2n4l3T8JZ6Ex9cXdPzkr6IhrZt4/ae8u4OEG3z+as3U3WKffP+U7XkfnI+A//Z0BcyJ04D8WAKWeXcTgPy5iSMqYFOE/R8Tr9dNk4T9fJo8hD7XhP3eIMk1KBeI/kOrVeIVV4j+oTHmkwKXiP8CuHND79eI/2RDA+zZG4z/xcmMncpbjPwnVBlOt5uM/Ijeqfug25D86mU2qI4fkP1L78NVe1+Q/a12UAZon5T+Dvzct1XflP5sh21gQyOU/tIN+hEsY5j/M5SGwhmjmP+RHxdvBuOY//aloB/0I5z8VDAwzOFnnPy1ur15zqec/RtBSiq755z9eMva16UnoP3aUmeEkmug/j/Y8DWDq6D+nWOA4mzrpP7+6g2TWiuk/2BwnkBHb6T/wfsq7TCvqPwnhbeeHe+o/IUMRE8PL6j85pbQ+/hvrP1IHWGo5bOs/amn7lXS86z+Cy57BrwzsP5stQu3qXOw/s4/lGCat7D/L8YhEYf3sP+NTLHCcTe0/+7XPm9ed7T8VGHPHEu7tPy16FvNNPu4/Rdy5HomO7j9dPl1KxN7uP3WgAHb/Lu8/jQKkoTp/7z+mZEfNdc/vP19jdXzYD/A/axRHEvY38D8=\",\"dtype\":\"float64\",\"shape\":[100]},\"y\":{\"__ndarray__\":\"AAAAAAAA8D8AAAAAAADwPwAAAAAAAPA/AAAAAAAA8D8AAAAAAADwP////////+8/6f//////7z83/v/////vPyPq/////+8/akf/////7z/Pdvv////vPzt+6f///+8/Kwek////7z+oAcD+///vPyoDM/z//+8/Vjuw9f//7z8DHZ7m///vP/FFicb//+8/2f8Ah///7z+ctdUQ///vP0PBv0D+/+8/o6OC4/z/7z/N+Kux+v/vP7oCFUv3/+8/aOxQMvL/7z/GKDHI6v/vP1Q+hUfg/+8/C+A0wdH/7z9qaMsYvv/vP8+NgwGk/+8/CDLa+4H/7z9GB6hTVv/vP9i5ux4f/+8/uoPpO9r+7z9PhYFShf7vP+3dG9Id/u8/giCo8qD97z98Nq20C/3vP5HdpuFa/O8/3H5uDIv77z99/Z2RmPrvP4Il3Jd/+e8/wHsDEDz47z+SPBW1yfbvP2dH6wsk9e8/CHmcYkbz7z8Zg4fPK/HvP9Cb+C/P7u8/f2VeJivs7z8FJAIYOunvP2O3Nir25e8/itfwPlni7z91rLnwXN7vPwIM64362e8/V1YiEyvV7z9pB9Qk58/vP5mJ5gcnyu8/LIQ2meLD7z+YouFDEb3vPyJ3Lvapte8/9WXgFKOt7z8RJ71s8qTvP/H//SGNm+8/ktdYnWeR7z8/EDx2dYbvP6XHwlmpeu8/n6DM7fRt7z/WEYOvSGDvP29rbMyTUe8/mr339MNB7z+d9ygnxTDvP84mtW+BHu8/gQhtn+AK7z8t5j7yx/XuP9nkUqQZ3+4/1fO7cLTG7j8lddDzcqzuPzYdUekqkO4/S5XXO6xx7j+rBUDXv1DuP2s2VyomLe4/CYsxPJUG7j9yJtAtttztPwJO3+4hr+0/RkSO0Fx97T9rmw110EbtP+3R9FDDCu0/02KmdkzI7D97JUOFQX7sP8IjBPYaK+w/R5po0cfM6z80kuQZY2DrP8Ta78mt4eo/9J8z5ghK6j+gH+CFN47pP0UZMe+RmOg/F1r+kVs15z+XD3GGfZzkPwAAAAAAAAAAAAAAAAAAAAA=\",\"dtype\":\"float64\",\"shape\":[100]}},\"selected\":{\"id\":\"3466\",\"type\":\"Selection\"},\"selection_policy\":{\"id\":\"3465\",\"type\":\"UnionRenderers\"}},\"id\":\"3309\",\"type\":\"ColumnDataSource\"},{\"attributes\":{\"data_source\":{\"id\":\"3309\",\"type\":\"ColumnDataSource\"},\"glyph\":{\"id\":\"3310\",\"type\":\"Line\"},\"hover_glyph\":null,\"muted_glyph\":null,\"nonselection_glyph\":{\"id\":\"3311\",\"type\":\"Line\"},\"selection_glyph\":null,\"view\":{\"id\":\"3313\",\"type\":\"CDSView\"}},\"id\":\"3312\",\"type\":\"GlyphRenderer\"},{\"attributes\":{\"plot\":{\"id\":\"3261\",\"subtype\":\"Figure\",\"type\":\"Plot\"},\"ticker\":{\"id\":\"3271\",\"type\":\"BasicTicker\"}},\"id\":\"3274\",\"type\":\"Grid\"},{\"attributes\":{\"fill_alpha\":{\"value\":0.5},\"fill_color\":{\"value\":\"green\"},\"line_color\":{\"value\":\"navy\"},\"size\":{\"units\":\"screen\",\"value\":7},\"x\":{\"field\":\"x\"},\"y\":{\"field\":\"y\"}},\"id\":\"3296\",\"type\":\"Circle\"},{\"attributes\":{\"callback\":null},\"id\":\"3262\",\"type\":\"DataRange1d\"},{\"attributes\":{\"source\":{\"id\":\"3309\",\"type\":\"ColumnDataSource\"}},\"id\":\"3313\",\"type\":\"CDSView\"},{\"attributes\":{\"callback\":null,\"data\":{\"x\":[0.881445570736007,1.0,1.1018069634200087],\"y\":[0.909787109375,0.64809765625,0.20142578125]},\"selected\":{\"id\":\"3322\",\"type\":\"Selection\"},\"selection_policy\":{\"id\":\"3321\",\"type\":\"UnionRenderers\"}},\"id\":\"3295\",\"type\":\"ColumnDataSource\"},{\"attributes\":{\"label\":{\"value\":\"Theoretical curve\"},\"renderers\":[{\"id\":\"3312\",\"type\":\"GlyphRenderer\"}]},\"id\":\"3323\",\"type\":\"LegendItem\"},{\"attributes\":{\"dimension\":1,\"plot\":{\"id\":\"3261\",\"subtype\":\"Figure\",\"type\":\"Plot\"},\"ticker\":{\"id\":\"3276\",\"type\":\"BasicTicker\"}},\"id\":\"3279\",\"type\":\"Grid\"},{\"attributes\":{\"callback\":null},\"id\":\"3264\",\"type\":\"DataRange1d\"},{\"attributes\":{\"base\":{\"field\":\"base\",\"units\":\"data\"},\"lower\":{\"field\":\"lower\",\"units\":\"data\"},\"lower_head\":{\"id\":\"3461\",\"type\":\"TeeHead\"},\"plot\":{\"id\":\"3261\",\"subtype\":\"Figure\",\"type\":\"Plot\"},\"source\":{\"id\":\"3324\",\"type\":\"ColumnDataSource\"},\"upper\":{\"field\":\"upper\",\"units\":\"data\"},\"upper_head\":{\"id\":\"3460\",\"type\":\"TeeHead\"}},\"id\":\"3325\",\"type\":\"Whisker\"},{\"attributes\":{},\"id\":\"3276\",\"type\":\"BasicTicker\"},{\"attributes\":{},\"id\":\"3266\",\"type\":\"LinearScale\"},{\"attributes\":{},\"id\":\"3284\",\"type\":\"ResetTool\"},{\"attributes\":{\"fill_alpha\":{\"value\":0.1},\"fill_color\":{\"value\":\"#1f77b4\"},\"line_alpha\":{\"value\":0.1},\"line_color\":{\"value\":\"#1f77b4\"},\"size\":{\"units\":\"screen\",\"value\":7},\"x\":{\"field\":\"x\"},\"y\":{\"field\":\"y\"}},\"id\":\"3297\",\"type\":\"Circle\"}],\"root_ids\":[\"3261\"]},\"title\":\"Bokeh Application\",\"version\":\"1.0.4\"}};\n",
       "  var render_items = [{\"docid\":\"0e8ec01a-0aa5-4971-ba6d-c26f09d38400\",\"roots\":{\"3261\":\"0c40e103-cc19-40a1-b9ab-a0fdfd3ba0ba\"}}];\n",
       "  root.Bokeh.embed.embed_items_notebook(docs_json, render_items);\n",
       "\n",
       "  }\n",
       "  if (root.Bokeh !== undefined) {\n",
       "    embed_document(root);\n",
       "  } else {\n",
       "    var attempts = 0;\n",
       "    var timer = setInterval(function(root) {\n",
       "      if (root.Bokeh !== undefined) {\n",
       "        embed_document(root);\n",
       "        clearInterval(timer);\n",
       "      }\n",
       "      attempts++;\n",
       "      if (attempts > 100) {\n",
       "        console.log(\"Bokeh: ERROR: Unable to run BokehJS code because BokehJS library is missing\");\n",
       "        clearInterval(timer);\n",
       "      }\n",
       "    }, 10, root)\n",
       "  }\n",
       "})(window);"
      ],
      "application/vnd.bokehjs_exec.v0+json": ""
     },
     "metadata": {
      "application/vnd.bokehjs_exec.v0+json": {
       "id": "3261"
      }
     },
     "output_type": "display_data"
    }
   ],
   "source": [
    "# create a new plot with default tools, using figure\n",
    "from bokeh.models import ColumnDataSource, Whisker\n",
    "p = figure(plot_width=600, plot_height=400)\n",
    "\n",
    "# add a circle renderer with x and y coordinates, size, color, and alpha\n",
    "p.circle(temp,mean_magn_temp, size=7, line_color=\"navy\", fill_color=\"green\", fill_alpha=0.5, legend = 'Simulated conf')\n",
    "p.line(T/2.269, teor_magn,line_color=\"red\", line_width=3, line_alpha=0.6, legend='Theoretical curve' )\n",
    "source_error = ColumnDataSource(data=dict(base=temp, lower=np.asarray(mean_magn_temp)-np.asarray(std_magn_temp), upper=np.asarray(mean_magn_temp)+np.asarray(std_magn_temp)))\n",
    "p.add_layout(\n",
    "    Whisker(source=source_error, base=\"base\", upper=\"upper\", lower=\"lower\")\n",
    ")\n",
    "\n",
    "p.yaxis.axis_label = \"Magnetization\"\n",
    "p.xaxis.axis_label = \"T/Tcritic\"\n",
    "p.legend.location = \"bottom_left\"\n",
    "show(p) # show the results"
   ]
  },
  {
   "cell_type": "code",
   "execution_count": null,
   "metadata": {
    "button": false,
    "new_sheet": false,
    "run_control": {
     "read_only": false
    }
   },
   "outputs": [],
   "source": []
  },
  {
   "cell_type": "code",
   "execution_count": null,
   "metadata": {
    "button": false,
    "new_sheet": false,
    "run_control": {
     "read_only": false
    }
   },
   "outputs": [],
   "source": []
  }
 ],
 "metadata": {
  "kernelspec": {
   "display_name": "Python 3",
   "language": "python",
   "name": "python3"
  },
  "language_info": {
   "codemirror_mode": {
    "name": "ipython",
    "version": 3
   },
   "file_extension": ".py",
   "mimetype": "text/x-python",
   "name": "python",
   "nbconvert_exporter": "python",
   "pygments_lexer": "ipython3",
   "version": "3.6.8"
  }
 },
 "nbformat": 4,
 "nbformat_minor": 2
}
